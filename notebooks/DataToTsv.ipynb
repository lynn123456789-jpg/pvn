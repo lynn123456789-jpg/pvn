{
 "cells": [
  {
   "cell_type": "code",
   "execution_count": 1,
   "metadata": {},
   "outputs": [],
   "source": [
    "import numpy as np\n",
    "import scanpy as sc\n",
    "import pandas as pd \n",
    "import anndata as ad"
   ]
  },
  {
   "cell_type": "code",
   "execution_count": 3,
   "metadata": {},
   "outputs": [],
   "source": [
    "adrenal = sc.read('./data/processed/adrenal_renamed.h5ad')\n",
    "pvn = sc.read('./data/processed/adata_pvn_batchcorr_renamed.h5ad')\n",
    "pituitary = sc.read('./data/processed/adata_pituitary_batchcorr_renamed.h5ad')"
   ]
  },
  {
   "cell_type": "code",
   "execution_count": 12,
   "metadata": {},
   "outputs": [
    {
     "data": {
      "text/plain": [
       "Index(['Fasciculata 1', 'Fasciculata 2', 'Fasciculata 3', 'Fasciculata 4',\n",
       "       'Fasciculata 5', 'Glomerulosa 1', 'Transition 1', 'Glomerulosa 2',\n",
       "       'Transition 2', 'Cycling', 'Capsular Cells', 'Medulla', 'Macrophages 1',\n",
       "       'Macrophages 2', 'Endothelial', 'Blood Cells'],\n",
       "      dtype='object')"
      ]
     },
     "execution_count": 12,
     "metadata": {},
     "output_type": "execute_result"
    }
   ],
   "source": [
    "adrenal.obs['louvain_r1'].cat.categories"
   ]
  },
  {
   "cell_type": "code",
   "execution_count": 22,
   "metadata": {},
   "outputs": [
    {
     "name": "stdout",
     "output_type": "stream",
     "text": [
      "Fasciculata 1\n",
      "adrenal Fasciculata 1 saved successfully\n",
      "Fasciculata 2\n",
      "adrenal Fasciculata 2 saved successfully\n",
      "Fasciculata 3\n",
      "adrenal Fasciculata 3 saved successfully\n",
      "Fasciculata 4\n",
      "adrenal Fasciculata 4 saved successfully\n",
      "Fasciculata 5\n",
      "adrenal Fasciculata 5 saved successfully\n",
      "Glomerulosa 1\n",
      "adrenal Glomerulosa 1 saved successfully\n",
      "Transition 1\n",
      "adrenal Transition 1 saved successfully\n",
      "Glomerulosa 2\n",
      "adrenal Glomerulosa 2 saved successfully\n",
      "Transition 2\n",
      "adrenal Transition 2 saved successfully\n",
      "Cycling\n",
      "adrenal Cycling saved successfully\n",
      "Capsular Cells\n",
      "adrenal Capsular Cells saved successfully\n",
      "Medulla\n",
      "adrenal Medulla saved successfully\n",
      "Macrophages 1\n",
      "adrenal Macrophages 1 saved successfully\n",
      "Macrophages 2\n",
      "adrenal Macrophages 2 saved successfully\n",
      "Endothelial\n",
      "adrenal Endothelial saved successfully\n",
      "Blood Cells\n",
      "adrenal Blood Cells saved successfully\n",
      "Glut 1\n",
      "pvn Glut 1 saved successfully\n",
      "Glut 2\n",
      "pvn Glut 2 saved successfully\n",
      "GABA 1\n",
      "pvn GABA 1 saved successfully\n",
      "GABA 2\n",
      "pvn GABA 2 saved successfully\n",
      "Avp Neurons\n",
      "pvn Avp Neurons saved successfully\n",
      "Neuropeptides\n",
      "pvn Neuropeptides saved successfully\n",
      "Active Neurons\n",
      "pvn Active Neurons saved successfully\n",
      "Astrocytes\n",
      "pvn Astrocytes saved successfully\n",
      "Oligodendrocytes 1\n",
      "pvn Oligodendrocytes 1 saved successfully\n",
      "Oligodendrocytes 2\n",
      "pvn Oligodendrocytes 2 saved successfully\n",
      "OPC\n",
      "pvn OPC saved successfully\n",
      "COP\n",
      "pvn COP saved successfully\n",
      "Microglia\n",
      "pvn Microglia saved successfully\n",
      "Macrophages\n",
      "pvn Macrophages saved successfully\n",
      "Endothelial\n",
      "pvn Endothelial saved successfully\n",
      "Ependymal\n",
      "pvn Ependymal saved successfully\n",
      "Vascular Cells\n",
      "pvn Vascular Cells saved successfully\n",
      "Tanicytes\n",
      "pvn Tanicytes saved successfully\n",
      "Somatotropes 1\n",
      "pituitary Somatotropes 1 saved successfully\n",
      "Somatotropes 2\n",
      "pituitary Somatotropes 2 saved successfully\n",
      "Somatotropes 3\n",
      "pituitary Somatotropes 3 saved successfully\n",
      "Somatotropes 4\n",
      "pituitary Somatotropes 4 saved successfully\n",
      "Somatotropes 5\n",
      "pituitary Somatotropes 5 saved successfully\n",
      "Somatotropes 6\n",
      "pituitary Somatotropes 6 saved successfully\n",
      "Somatotropes 7\n",
      "pituitary Somatotropes 7 saved successfully\n",
      "Somatotropes 8\n",
      "pituitary Somatotropes 8 saved successfully\n",
      "Cycling\n",
      "pituitary Cycling saved successfully\n",
      "Lactotropes 1\n",
      "pituitary Lactotropes 1 saved successfully\n",
      "Lactotropes 2\n",
      "pituitary Lactotropes 2 saved successfully\n",
      "Corticotropes 1\n",
      "pituitary Corticotropes 1 saved successfully\n",
      "Corticotropes 2\n",
      "pituitary Corticotropes 2 saved successfully\n",
      "Melanotropes\n",
      "pituitary Melanotropes saved successfully\n",
      "Gonadotropes\n",
      "pituitary Gonadotropes saved successfully\n",
      "Thyrotropes\n",
      "pituitary Thyrotropes saved successfully\n",
      "Progenitor\n",
      "pituitary Progenitor saved successfully\n",
      "Stem\n",
      "pituitary Stem saved successfully\n",
      "Posterior Pituitary\n",
      "pituitary Posterior Pituitary saved successfully\n",
      "Macrophages\n",
      "pituitary Macrophages saved successfully\n",
      "Endothelial\n",
      "pituitary Endothelial saved successfully\n",
      "Vascular Meningeal\n",
      "pituitary Vascular Meningeal saved successfully\n"
     ]
    }
   ],
   "source": [
    "datasets = {\n",
    "            'adrenal': adrenal,\n",
    "            'pvn': pvn,\n",
    "            'pituitary': pituitary\n",
    "           }\n",
    "\n",
    "for dataname, adata in datasets.items():\n",
    "    for cluster in adata.obs['louvain_r1'].cat.categories:\n",
    "        adata_cluster = adata[adata.obs['louvain_r1'] == cluster]\n",
    "        df = pd.DataFrame(data=adata_cluster.raw.X.T,\n",
    "                             index=adata_cluster.var.index,\n",
    "                             columns=adata_cluster.obs.index)\n",
    "        df = df.append(adata_cluster.obs['condition'].astype(str))\n",
    "        df.to_csv('./data/processed/' + dataname + '_' + cluster.replace(' ', '_') + '.tsv', sep='\\t')\n",
    "        print(dataname + ' ' + cluster + ' saved successfully')"
   ]
  },
  {
   "cell_type": "code",
   "execution_count": 6,
   "metadata": {},
   "outputs": [],
   "source": [
    "adrenal_df.to_csv('./results/adrenal.tsv', sep='\\t')\n",
    "pvn_df.to_csv('./results/pvn.tsv', sep='\\t')\n",
    "pituitary_df.to_csv('./results/pituitary.tsv', sep='\\t')"
   ]
  }
 ],
 "metadata": {
  "kernelspec": {
   "display_name": "Python 3",
   "language": "python",
   "name": "python3"
  },
  "language_info": {
   "codemirror_mode": {
    "name": "ipython",
    "version": 3
   },
   "file_extension": ".py",
   "mimetype": "text/x-python",
   "name": "python",
   "nbconvert_exporter": "python",
   "pygments_lexer": "ipython3",
   "version": "3.7.6"
  }
 },
 "nbformat": 4,
 "nbformat_minor": 4
}
