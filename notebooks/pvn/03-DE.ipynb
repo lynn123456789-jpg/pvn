{
 "cells": [
  {
   "cell_type": "code",
   "execution_count": 1,
   "metadata": {},
   "outputs": [
    {
     "name": "stdout",
     "output_type": "stream",
     "text": [
      "scanpy==1.4.4.post1 anndata==0.7.4 umap==0.3.10 numpy==1.19.2 scipy==1.5.2 pandas==1.1.2 scikit-learn==0.23.2 statsmodels==0.12.0 python-igraph==0.8.2 louvain==0.6.1\n"
     ]
    }
   ],
   "source": [
    "import os\n",
    "import numpy as np\n",
    "import scanpy as sc\n",
    "import anndata as ad\n",
    "import pandas as pd\n",
    "import seaborn as sns\n",
    "import matplotlib.pyplot as plt\n",
    "import pickle\n",
    "import warnings\n",
    "plt.rcParams['figure.figsize']=(5, 5)\n",
    "plt.rcParams['figure.dpi'] = 100\n",
    "sc.settings.verbosity = 3\n",
    "sc.logging.print_versions()\n",
    "warnings.filterwarnings(\"ignore\")\n",
    "\n",
    "%load_ext autoreload\n",
    "%autoreload 2 "
   ]
  },
  {
   "cell_type": "code",
   "execution_count": 5,
   "metadata": {},
   "outputs": [],
   "source": [
    "import sys\n",
    "sys.path.append('./../../code/') "
   ]
  },
  {
   "cell_type": "code",
   "execution_count": 6,
   "metadata": {},
   "outputs": [
    {
     "ename": "ModuleNotFoundError",
     "evalue": "No module named 'xlsxwriter'",
     "output_type": "error",
     "traceback": [
      "\u001b[0;31m---------------------------------------------------------------------------\u001b[0m",
      "\u001b[0;31mModuleNotFoundError\u001b[0m                       Traceback (most recent call last)",
      "\u001b[0;32m<ipython-input-6-e5e08e5a4fd9>\u001b[0m in \u001b[0;36m<module>\u001b[0;34m\u001b[0m\n\u001b[0;32m----> 1\u001b[0;31m \u001b[0;32mfrom\u001b[0m \u001b[0mmast_scripts\u001b[0m \u001b[0;32mimport\u001b[0m \u001b[0;34m*\u001b[0m\u001b[0;34m\u001b[0m\u001b[0;34m\u001b[0m\u001b[0m\n\u001b[0m",
      "\u001b[0;32m~/host_home/Projects/HPA_reproducibility/code/mast_scripts.py\u001b[0m in \u001b[0;36m<module>\u001b[0;34m\u001b[0m\n\u001b[1;32m      3\u001b[0m \u001b[0;32mimport\u001b[0m \u001b[0manndata\u001b[0m \u001b[0;32mas\u001b[0m \u001b[0mad\u001b[0m\u001b[0;34m\u001b[0m\u001b[0;34m\u001b[0m\u001b[0m\n\u001b[1;32m      4\u001b[0m \u001b[0;32mimport\u001b[0m \u001b[0mpandas\u001b[0m \u001b[0;32mas\u001b[0m \u001b[0mpd\u001b[0m\u001b[0;34m\u001b[0m\u001b[0;34m\u001b[0m\u001b[0m\n\u001b[0;32m----> 5\u001b[0;31m \u001b[0;32mimport\u001b[0m \u001b[0mxlsxwriter\u001b[0m\u001b[0;34m\u001b[0m\u001b[0;34m\u001b[0m\u001b[0m\n\u001b[0m\u001b[1;32m      6\u001b[0m \u001b[0;32mimport\u001b[0m \u001b[0mpickle\u001b[0m\u001b[0;34m\u001b[0m\u001b[0;34m\u001b[0m\u001b[0m\n\u001b[1;32m      7\u001b[0m \u001b[0;32mfrom\u001b[0m \u001b[0mrpy2\u001b[0m \u001b[0;32mimport\u001b[0m \u001b[0mrobjects\u001b[0m\u001b[0;34m\u001b[0m\u001b[0;34m\u001b[0m\u001b[0m\n",
      "\u001b[0;31mModuleNotFoundError\u001b[0m: No module named 'xlsxwriter'"
     ]
    }
   ],
   "source": [
    "from mast_scripts import *"
   ]
  },
  {
   "cell_type": "code",
   "execution_count": 2,
   "metadata": {},
   "outputs": [],
   "source": [
    "import rpy2.rinterface_lib.callbacks\n",
    "import logging\n",
    "import warnings\n",
    "from rpy2.robjects import pandas2ri\n",
    "import anndata2ri\n",
    "\n",
    "# Ignore R warning messages\n",
    "#Note: this can be commented out to get more verbose R output\n",
    "rpy2.rinterface_lib.callbacks.logger.setLevel(logging.ERROR)\n",
    "warnings.filterwarnings(\"ignore\")\n",
    "\n",
    "# Automatically convert rpy2 outputs to pandas dataframes\n",
    "pandas2ri.activate()\n",
    "anndata2ri.activate()\n",
    "%load_ext rpy2.ipython"
   ]
  },
  {
   "cell_type": "code",
   "execution_count": 3,
   "metadata": {
    "collapsed": true,
    "jupyter": {
     "outputs_hidden": true
    }
   },
   "outputs": [
    {
     "name": "stdout",
     "output_type": "stream",
     "text": [
      "R version 3.6.2 (2019-12-12)\n",
      "Platform: x86_64-pc-linux-gnu (64-bit)\n",
      "Running under: Debian GNU/Linux 10 (buster)\n",
      "\n",
      "Matrix products: default\n",
      "BLAS:   /app/R36/lib/R/lib/libRblas.so\n",
      "LAPACK: /app/R36/lib/R/lib/libRlapack.so\n",
      "\n",
      "locale:\n",
      " [1] LC_CTYPE=en_US.UTF-8       LC_NUMERIC=C              \n",
      " [3] LC_TIME=en_US.UTF-8        LC_COLLATE=en_US.UTF-8    \n",
      " [5] LC_MONETARY=en_US.UTF-8    LC_MESSAGES=en_US.UTF-8   \n",
      " [7] LC_PAPER=en_US.UTF-8       LC_NAME=C                 \n",
      " [9] LC_ADDRESS=C               LC_TELEPHONE=C            \n",
      "[11] LC_MEASUREMENT=en_US.UTF-8 LC_IDENTIFICATION=C       \n",
      "\n",
      "attached base packages:\n",
      " [1] parallel  stats4    tools     stats     graphics  grDevices utils    \n",
      " [8] datasets  methods   base     \n",
      "\n",
      "other attached packages:\n",
      " [1] MAST_1.12.0                 SingleCellExperiment_1.8.0 \n",
      " [3] SummarizedExperiment_1.16.1 DelayedArray_0.12.3        \n",
      " [5] BiocParallel_1.20.1         matrixStats_0.56.0         \n",
      " [7] Biobase_2.46.0              GenomicRanges_1.38.0       \n",
      " [9] GenomeInfoDb_1.22.1         IRanges_2.20.2             \n",
      "[11] S4Vectors_0.24.4            BiocGenerics_0.32.0        \n",
      "\n",
      "loaded via a namespace (and not attached):\n",
      " [1] Rcpp_1.0.5             plyr_1.8.6             compiler_3.6.2        \n",
      " [4] pillar_1.4.6           XVector_0.26.0         bitops_1.0-6          \n",
      " [7] zlibbioc_1.32.0        lifecycle_0.2.0        tibble_3.0.3          \n",
      "[10] gtable_0.3.0           lattice_0.20-41        pkgconfig_2.0.3       \n",
      "[13] rlang_0.4.7            Matrix_1.2-18          GenomeInfoDbData_1.2.2\n",
      "[16] dplyr_1.0.2            stringr_1.4.0          generics_0.0.2        \n",
      "[19] vctrs_0.3.4            tidyselect_1.1.0       grid_3.6.2            \n",
      "[22] glue_1.4.2             data.table_1.13.0      R6_2.4.1              \n",
      "[25] reshape2_1.4.4         purrr_0.3.4            ggplot2_3.3.2         \n",
      "[28] magrittr_1.5           scales_1.1.1           ellipsis_0.3.1        \n",
      "[31] abind_1.4-5            colorspace_1.4-1       stringi_1.5.3         \n",
      "[34] RCurl_1.98-1.2         munsell_0.5.0          crayon_1.3.4          \n"
     ]
    }
   ],
   "source": [
    "%%R\n",
    "# Load all the R libraries we will be using in the notebook\n",
    "library(MAST)\n",
    "sessionInfo()"
   ]
  },
  {
   "cell_type": "code",
   "execution_count": null,
   "metadata": {
    "jupyter": {
     "source_hidden": true
    }
   },
   "outputs": [],
   "source": [
    "from rpy2 import robjects\n",
    "def mast_de_groups(adata, groupby, save):\n",
    "    '''Compute differential expression with the MAST package by treatment covariate within clusters provided as \"groupby\" and export as excel file'''\n",
    "\n",
    "    robjects.r('''\n",
    "        mast_de_r <- function(adata, obs, var, clusters, groupby){\n",
    "            #Prepare data sets for SingleCellExperiment data structure conversion\n",
    "            #obs['wellKey'] = row.names(obs)\n",
    "            #var['primerid'] = row.names(var)\n",
    "            print('Deploying to R...')\n",
    "            #Convert to SingleCellExperiment type\n",
    "            #sca <- FromMatrix(exprsArray=data_mat, fData=var)\n",
    "            sca <- SceToSingleCellAssay(adata, class = \"SingleCellAssay\")\n",
    "            #Compute Gene detection rate\n",
    "            colData(sca)$n_genes = scale(colData(sca)$n_genes)\n",
    "\n",
    "            #Create a vector that will hold all the DE results\n",
    "            output <- vector(\"list\", length(clusters))\n",
    "\n",
    "            count <- 0\n",
    "            print('Begin computation...')\n",
    "            #Loop over all louvain clusters\n",
    "            for (i in clusters){\n",
    "                count <- count+1\n",
    "                print(i)\n",
    "                #Create data subsets which should be used for testing\n",
    "                if (groupby=='louvain_final') {\n",
    "                    sca_sub <- subset(sca, with(colData(sca), louvain_final==i))\n",
    "                } else if (groupby=='louvain_r1') {\n",
    "                    sca_sub <- subset(sca, with(colData(sca), louvain_r1==i))\n",
    "                } else {\n",
    "                    stop()\n",
    "                }\n",
    "\n",
    "                #Filter out non-expressed genes in the subset\n",
    "                sca_sub <- sca_sub[rowSums(assay(sca_sub)) != 0, ]\n",
    "\n",
    "                #Define & run hurdle model\n",
    "                zlmCond <- zlm(formula = ~condition + n_genes, sca=sca_sub)\n",
    "                summaryCond <- summary(zlmCond, doLRT='conditionStress')\n",
    "\n",
    "                summaryDt <- summaryCond$datatable\n",
    "\n",
    "                result <- merge(summaryDt[contrast=='conditionStress' & component=='H',.(primerid, `Pr(>Chisq)`)], #p-vals\n",
    "                                 summaryDt[contrast=='conditionStress' & component=='logFC', .(primerid, coef)], #logFC coefficients\n",
    "                                 by='primerid') \n",
    "\n",
    "                #Correct for multiple testing (FDR correction) and filtering\n",
    "                result[,FDR:=p.adjust(`Pr(>Chisq)`, 'fdr')]\n",
    "                result[,coef:=result[,coef]/log(2)]\n",
    "                names(result) <- c(\"gene\", \"pval\", \"log2FC\", \"qval\")\n",
    "                result = result[order(result$qval),]\n",
    "\n",
    "                output[[count]] <- result\n",
    "\n",
    "            }\n",
    "            return(output)\n",
    "        }\n",
    "    ''')\n",
    "    \n",
    "    mast_de = robjects.globalenv['mast_de_r']\n",
    "    \n",
    "\n",
    "    \n",
    "    #Create new Anndata object for use in MAST with non-batch corrected data as before\n",
    "    adata_test = adata.copy()\n",
    "    adata_test.X = adata.raw.X\n",
    "    adata_test.obs['n_genes'] = (adata_test.X > 0).sum(1) \n",
    "    \n",
    "    obs = adata_test.obs\n",
    "    var = adata_test.var\n",
    "    clusters = list(adata_test.obs[groupby].cat.categories)\n",
    "    \n",
    "    expr_dict = {adata_test.var.index[i]:{} for i in range(adata_test.shape[1])}\n",
    "    expr_dict_stress = {adata_test.var.index[i]:{} for i in range(adata_test.shape[1])}\n",
    "    expr_dict_ctrl = {adata_test.var.index[i]:{} for i in range(adata_test.shape[1])}\n",
    "    for clust in adata_test.obs[groupby].cat.categories:\n",
    "        expr = np.mean(adata_test[adata_test.obs[groupby] == clust].X, axis=0)\n",
    "        expr_stress = np.mean(adata_test[(adata_test.obs['condition']=='Stress') & (adata_test.obs[groupby] == clust)].X, axis=0)\n",
    "        expr_ctrl = np.mean(adata_test[(adata_test.obs['condition']=='Control') & (adata_test.obs[groupby] == clust)].X, axis=0)\n",
    "        for i, gene in enumerate(adata_test.var.index):\n",
    "            expr_dict[gene][clust] = expr[i]\n",
    "            expr_dict_stress[gene][clust] = expr_stress[i]\n",
    "            expr_dict_ctrl[gene][clust] = expr_ctrl[i]\n",
    "    \n",
    "    result = mast_de(adata_test, obs, var, clusters, groupby)\n",
    "    result = {clusters[i]:datframe for i, datframe in enumerate(result)}\n",
    "    \n",
    "    writer = pd.ExcelWriter(save, engine='xlsxwriter')\n",
    "    print('Number of significant DE genes:')    \n",
    "    for clust in clusters:\n",
    "        result[clust]['meanExpr'] = [expr_dict[gene][clust] for gene in result[clust]['gene'].values]\n",
    "        result[clust]['meanExprStress'] = [expr_dict_stress[gene][clust] for gene in result[clust]['gene'].values]\n",
    "        result[clust]['meanExprCtrl'] = [expr_dict_ctrl[gene][clust] for gene in result[clust]['gene'].values]\n",
    "        result[clust].to_excel(writer,sheet_name=str(clust))\n",
    "        print(clust+':', np.sum([result[clust]['qval']<0.05]))\n",
    "\n",
    "    writer.save()\n",
    "\n",
    "    return result"
   ]
  },
  {
   "cell_type": "code",
   "execution_count": null,
   "metadata": {},
   "outputs": [],
   "source": [
    "adata = sc.read('./../../data/processed/pvn_renamed_latest.h5ad')"
   ]
  },
  {
   "cell_type": "code",
   "execution_count": 22,
   "metadata": {},
   "outputs": [
    {
     "name": "stdout",
     "output_type": "stream",
     "text": [
      "[1] \"Deploying to R...\"\n",
      "[1] \"Begin computation...\"\n"
     ]
    }
   ],
   "source": [
    "de_bulk = mast_de_bulk(adata, save='./de_pvn_bulk.xlsx')"
   ]
  },
  {
   "cell_type": "code",
   "execution_count": null,
   "metadata": {},
   "outputs": [
    {
     "name": "stdout",
     "output_type": "stream",
     "text": [
      "[1] \"Deploying to R...\"\n",
      "[1] \"Begin computation...\"\n",
      "[1] \"Fasciculata 1\"\n",
      "[1] \"Fasciculata 2\"\n",
      "[1] \"Fasciculata 3\"\n",
      "[1] \"Fasciculata 4\"\n",
      "[1] \"Fasciculata 5\"\n",
      "[1] \"Glomerulosa 1\"\n",
      "[1] \"Transition 1\"\n"
     ]
    }
   ],
   "source": [
    "de = mast_de_groups(adata, groupby='louvain_r1', save='./de_pvn_.xlsx')"
   ]
  }
 ],
 "metadata": {
  "kernelspec": {
   "display_name": "Python 3",
   "language": "python",
   "name": "python3"
  },
  "language_info": {
   "codemirror_mode": {
    "name": "ipython",
    "version": 3
   },
   "file_extension": ".py",
   "mimetype": "text/x-python",
   "name": "python",
   "nbconvert_exporter": "python",
   "pygments_lexer": "ipython3",
   "version": "3.7.5"
  }
 },
 "nbformat": 4,
 "nbformat_minor": 4
}
